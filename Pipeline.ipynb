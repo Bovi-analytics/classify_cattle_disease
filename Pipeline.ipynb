{
 "cells": [
  {
   "cell_type": "code",
   "execution_count": 26,
   "metadata": {},
   "outputs": [],
   "source": [
    "import pandas as pd\n",
    "import numpy as np\n",
    "import pyspark as py\n",
    "from pyspark.sql import SparkSession\n",
    "from pyspark.sql import SQLContext\n",
    "\n",
    "spark = SparkSession.builder \\\n",
    " .master('local[*]') \\\n",
    " .appName('Spark NLP') \\\n",
    " .config('spark.driver.memory', '6g') \\\n",
    " .config('spark.executor.memory', '6g') \\\n",
    " .config('spark.jars.packages', 'JohnSnowLabs:spark-nlp:2.5.2') \\\n",
    " .config('spark.kryoserializer.buffer.max', '600M') \\\n",
    " .getOrCreate()\n",
    "   \n",
    "sc = spark.sparkContext\n",
    "sqlContext = SQLContext(sc)\n",
    "\n",
    "df = sqlContext.read.format('com.databricks.spark.csv').options(header='true', inferschema='true', delimiter=\";\").load('demo.csv')"
   ]
  },
  {
   "cell_type": "code",
   "execution_count": 27,
   "metadata": {},
   "outputs": [],
   "source": [
    "import translate\n",
    "from importlib import reload\n",
    "reload(translate)\n",
    "\n",
    "translated = translate.Translate(df, text_column = \"Comments\")\n",
    "comments = translated.get_dataframe()"
   ]
  },
  {
   "cell_type": "code",
   "execution_count": 28,
   "metadata": {},
   "outputs": [
    {
     "name": "stdout",
     "output_type": "stream",
     "text": [
      "+---------------------------------------------------------------------------------------------------------------------------------------------------+\n",
      "|Comments                                                                                                                                           |\n",
      "+---------------------------------------------------------------------------------------------------------------------------------------------------+\n",
      "|treated with ampiclox                                                                                                                              |\n",
      "|ketosis                                                                                                                                            |\n",
      "|not treated                                                                                                                                        |\n",
      "|abomasum to the left                                                                                                                               |\n",
      "|heifer calf                                                                                                                                        |\n",
      "|422 calcium deposit lucas 500 ml given 259 c ketofen and cooled afterwards another 417 come back for calcium bolus and kexxtone when she calms down|\n",
      "|coli mastitis                                                                                                                                      |\n",
      "|can you now tag this photo, for example with 'to be trimmed                                                                                        |\n",
      "|keep well under antibiotics                                                                                                                        |\n",
      "|la mastitis ubrolexin                                                                                                                              |\n",
      "|mastitis rv ubrolexin                                                                                                                              |\n",
      "|is much better                                                                                                                                     |\n",
      "|dead heifer calf during milk turn this morning                                                                                                     |\n",
      "|control metritis                                                                                                                                   |\n",
      "|treat for another three days                                                                                                                       |\n",
      "|temperature 384 1400 c propyleneglicol                                                                                                             |\n",
      "|la ubrolexin                                                                                                                                       |\n",
      "|calved from strong alf                                                                                                                             |\n",
      "|diarrhea problem solution 2 liters of milk 100 grams of benfital plus remark fairly lively calf bone the milk well                                 |\n",
      "|is not correct saskia 9137 is a black koen please give the correct number thanks                                                                   |\n",
      "+---------------------------------------------------------------------------------------------------------------------------------------------------+\n",
      "\n"
     ]
    }
   ],
   "source": [
    "comments.show(20, False)"
   ]
  },
  {
   "cell_type": "code",
   "execution_count": 29,
   "metadata": {},
   "outputs": [],
   "source": [
    "import preprocess\n",
    "\n",
    "preprocessed = preprocess.Preprocess(comments)\n",
    "prep_df = preprocessed.get_dataframe()"
   ]
  },
  {
   "cell_type": "code",
   "execution_count": 30,
   "metadata": {},
   "outputs": [
    {
     "name": "stdout",
     "output_type": "stream",
     "text": [
      "+--------------------+---------------+\n",
      "|            Comments| classification|\n",
      "+--------------------+---------------+\n",
      "|      treat ampiclox|         [4, 7]|\n",
      "|ketosi ketosi be ...|      [8, 5, 6]|\n",
      "|               treat|         [4, 7]|\n",
      "|abomasum leav the...|      [8, 5, 6]|\n",
      "|heifer calf cattl...|   [1, 8, 5, 6]|\n",
      "|calcium deposit l...|      [8, 5, 6]|\n",
      "|coli mastiti bovi...|     [4, 7, 13]|\n",
      "|tag photo exampl ...|            [1]|\n",
      "|  keep well antibiot|  [1, 3, 8, 13]|\n",
      "|la mastiti ubrole...|     [4, 7, 13]|\n",
      "|mastiti rv ubrole...|     [4, 7, 13]|\n",
      "|         much better|           [13]|\n",
      "|dead heifer calf ...|            [1]|\n",
      "|control metriti m...|[4, 7, 2, 4, 7]|\n",
      "|treat anoth three...|         [4, 7]|\n",
      "|temperatur c prop...|      [8, 5, 6]|\n",
      "|la ubrolexin use ...|           [13]|\n",
      "|     calv strong alf|            [1]|\n",
      "|diarrhea problem ...|      [8, 5, 6]|\n",
      "|correct saskia bl...|      [8, 5, 6]|\n",
      "+--------------------+---------------+\n",
      "\n"
     ]
    }
   ],
   "source": [
    "import classify\n",
    "\n",
    "lda_category_n8w7p250_lookup = {\n",
    "    0: [1],\n",
    "    1: [3, 8],\n",
    "    2: [9, 12],\n",
    "    3: [11, 12],\n",
    "    4: [4, 7],\n",
    "    5: [13],\n",
    "    6: [8, 5, 6],\n",
    "    7: [2, 4, 7]\n",
    "}\n",
    "\n",
    "classified = classify.LDAClassification(prep_df, lda_category_n8w7p250_lookup, topics=8, passes=250, decay=None, iterations=None)\n",
    "classified.get_dataframe().show()"
   ]
  },
  {
   "cell_type": "code",
   "execution_count": 31,
   "metadata": {},
   "outputs": [
    {
     "name": "stdout",
     "output_type": "stream",
     "text": [
      "+--------------------+--------------+\n",
      "|            Comments|classification|\n",
      "+--------------------+--------------+\n",
      "|      treat ampiclox|            []|\n",
      "|ketosi ketosi be ...|  [1, 2, 3, 8]|\n",
      "|               treat|            []|\n",
      "|abomasum leav the...|    [5, 6, 10]|\n",
      "|heifer calf cattl...|            []|\n",
      "|calcium deposit l...|  [1, 2, 3, 8]|\n",
      "|coli mastiti bovi...|          [13]|\n",
      "|tag photo exampl ...|            []|\n",
      "|  keep well antibiot|            []|\n",
      "|la mastiti ubrole...|          [13]|\n",
      "|mastiti rv ubrole...|          [13]|\n",
      "|         much better|            []|\n",
      "|dead heifer calf ...|            []|\n",
      "|control metriti m...|     [2, 4, 7]|\n",
      "|treat anoth three...|            []|\n",
      "|temperatur c prop...|  [1, 2, 3, 8]|\n",
      "|la ubrolexin use ...|          [13]|\n",
      "|     calv strong alf|            []|\n",
      "|diarrhea problem ...|  [1, 2, 3, 8]|\n",
      "|correct saskia bl...|            []|\n",
      "+--------------------+--------------+\n",
      "\n"
     ]
    }
   ],
   "source": [
    "llda_lookup = {\n",
    "    \"Calving problems\": [1,2,3,8],\n",
    "    \"Uterus problems\": [2,4,7],\n",
    "    \"Mastitis\": [13],\n",
    "    \"Intestine problems\": [5,6,10],\n",
    "    \"Peritonitis\": [11, 12],\n",
    "    \"Pneumonia\": [9],\n",
    "    \"Nothing\": []\n",
    "}\n",
    "\n",
    "classified = classify.LLDAClassification(prep_df, llda_lookup, topics = 7, passes = 250)\n",
    "classified.get_dataframe().show()"
   ]
  }
 ],
 "metadata": {
  "kernelspec": {
   "display_name": "Python 3",
   "language": "python",
   "name": "python3"
  },
  "language_info": {
   "codemirror_mode": {
    "name": "ipython",
    "version": 3
   },
   "file_extension": ".py",
   "mimetype": "text/x-python",
   "name": "python",
   "nbconvert_exporter": "python",
   "pygments_lexer": "ipython3",
   "version": "3.7.6"
  }
 },
 "nbformat": 4,
 "nbformat_minor": 4
}
