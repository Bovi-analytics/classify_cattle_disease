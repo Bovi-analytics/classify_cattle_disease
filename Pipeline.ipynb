{
 "cells": [
  {
   "cell_type": "code",
   "execution_count": 29,
   "metadata": {},
   "outputs": [],
   "source": [
    "import pandas as pd\n",
    "import numpy as np\n",
    "import pyspark as py\n",
    "from pyspark.sql import SparkSession\n",
    "from pyspark.sql import SQLContext\n",
    "\n",
    "spark = SparkSession.builder \\\n",
    " .master('local[*]') \\\n",
    " .appName('Spark NLP') \\\n",
    " .config('spark.driver.memory', '6g') \\\n",
    " .config('spark.executor.memory', '6g') \\\n",
    " .config('spark.jars.packages', 'JohnSnowLabs:spark-nlp:2.5.2') \\\n",
    " .config('spark.kryoserializer.buffer.max', '600M') \\\n",
    " .getOrCreate()\n",
    "   \n",
    "    \n",
    "sc = spark.sparkContext\n",
    "sqlContext = SQLContext(sc)\n",
    "\n",
    "df = sqlContext.read.format('com.databricks.spark.csv').options(header='true', inferschema='true', delimiter=\"\\t\").load('test-dataset.csv')"
   ]
  },
  {
   "cell_type": "code",
   "execution_count": 30,
   "metadata": {},
   "outputs": [],
   "source": [
    "import translate\n",
    "from importlib import reload\n",
    "reload(translate)\n",
    "\n",
    "translated = translate.Translate(df)\n",
    "comments = translated.get_english()"
   ]
  },
  {
   "cell_type": "code",
   "execution_count": 31,
   "metadata": {},
   "outputs": [
    {
     "name": "stdout",
     "output_type": "stream",
     "text": [
      "+--------------------+\n",
      "|            Comments|\n",
      "+--------------------+\n",
      "|x glucos the tran...|\n",
      "|right na call hon...|\n",
      "|         fever sharp|\n",
      "|hum abomasum the ...|\n",
      "|bermuda tablet ku...|\n",
      "|uterin tablet s p...|\n",
      "|bermuda tablet s ...|\n",
      "|s s eikel ketofen...|\n",
      "|abomasum leav the...|\n",
      "|         viral fever|\n",
      "|         calv heifer|\n",
      "|uterin tablet s p...|\n",
      "|bermuda tablet s ...|\n",
      "|well continu give...|\n",
      "|ketosi ketosi be ...|\n",
      "|uterin inflamm fe...|\n",
      "|oper abomasum lea...|\n",
      "|    fever drop clean|\n",
      "|abomasum check pr...|\n",
      "|       degre problem|\n",
      "+--------------------+\n",
      "only showing top 20 rows\n",
      "\n"
     ]
    }
   ],
   "source": [
    "import preprocess\n",
    "\n",
    "preprocessed = preprocess.Preprocess(comments)\n",
    "prep_df = preprocessed.get_dataframe()"
   ]
  },
  {
   "cell_type": "code",
   "execution_count": null,
   "metadata": {},
   "outputs": [],
   "source": [
    "import classify\n",
    "reload(classify)\n",
    "\n",
    "lda_category_n8w7p250_lookup = {\n",
    "    0: [1],\n",
    "    1: [3, 8],\n",
    "    2: [9, 12],\n",
    "    3: [11, 12],\n",
    "    4: [4, 7],\n",
    "    5: [13],\n",
    "    6: [8, 5, 6],\n",
    "    7: [2, 4, 7]\n",
    "}\n",
    "\n",
    "classified = classify.LDAClassification(prep_df, lda_category_n8w7p250_lookup, topics=8, passes=250, decay=None, iterations=None)\n",
    "classified.get_dataframe().show()"
   ]
  }
 ],
 "metadata": {
  "kernelspec": {
   "display_name": "Python 3",
   "language": "python",
   "name": "python3"
  },
  "language_info": {
   "codemirror_mode": {
    "name": "ipython",
    "version": 3
   },
   "file_extension": ".py",
   "mimetype": "text/x-python",
   "name": "python",
   "nbconvert_exporter": "python",
   "pygments_lexer": "ipython3",
   "version": "3.7.6"
  }
 },
 "nbformat": 4,
 "nbformat_minor": 4
}
